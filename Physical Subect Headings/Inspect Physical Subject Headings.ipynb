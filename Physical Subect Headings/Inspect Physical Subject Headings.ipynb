{
 "cells": [
  {
   "cell_type": "markdown",
   "metadata": {},
   "source": [
    "# Analyse Physical Subject Headings"
   ]
  },
  {
   "cell_type": "markdown",
   "metadata": {},
   "source": [
    "### Importing Required Libraries\n",
    "\n",
    "In this cell, we import the following libraries:\n",
    "\n",
    "- ``pprint``: to pretty print data structures\n",
    "- ``deque``: to implement a double-ended queue\n",
    "\n",
    "These libraries are necessary for the subsequent code execution."
   ]
  },
  {
   "cell_type": "code",
   "execution_count": null,
   "metadata": {},
   "outputs": [],
   "source": [
    "import json\n",
    "import pprint\n",
    "from collections import deque"
   ]
  },
  {
   "cell_type": "markdown",
   "metadata": {},
   "source": [
    "### Loading Data\n",
    "\n",
    "In this cell, we load the data from the file 'Physical-Subject-Headings.json' into a variable called `data`. The data is stored in JSON format."
   ]
  },
  {
   "cell_type": "code",
   "execution_count": null,
   "metadata": {},
   "outputs": [],
   "source": [
    "with open('Physical-Subject-Headings.json','r') as f:\n",
    "    data = json.load(f)"
   ]
  },
  {
   "cell_type": "code",
   "execution_count": null,
   "metadata": {
    "scrolled": true
   },
   "outputs": [],
   "source": [
    "pprint.pprint(data)"
   ]
  },
  {
   "cell_type": "code",
   "execution_count": null,
   "metadata": {},
   "outputs": [],
   "source": [
    "print(json.dumps(data[1], indent=4))"
   ]
  },
  {
   "cell_type": "markdown",
   "metadata": {},
   "source": [
    "### Counting Concept Types\n",
    "\n",
    "In the following, we count the number of occurrences of each concept type in the `data` variable. The concept types are extracted from the `@type` field of each concept in the `data` variable.\n",
    "\n",
    "The code snippets below shows how we count the concept types:"
   ]
  },
  {
   "cell_type": "code",
   "execution_count": null,
   "metadata": {},
   "outputs": [],
   "source": [
    "types = dict()\n",
    "for concept in data:\n",
    "    for type_t in concept[\"@type\"]:\n",
    "        if type_t not in types:\n",
    "            types[type_t] = 0\n",
    "        types[type_t] += 1\n",
    "\n",
    "print(types)"
   ]
  },
  {
   "cell_type": "code",
   "execution_count": null,
   "metadata": {},
   "outputs": [],
   "source": [
    "#Getting Facets\n",
    "for concept in data:\n",
    "    for type_t in concept[\"@type\"]:\n",
    "        if type_t in 'https://physh.org/rdf/2018/01/01/core#Facet':\n",
    "            print(json.dumps(concept[\"http://www.w3.org/2004/02/skos/core#prefLabel\"][0][\"@value\"], indent=4))"
   ]
  },
  {
   "cell_type": "code",
   "execution_count": null,
   "metadata": {},
   "outputs": [],
   "source": [
    "#Getting Discipline\n",
    "for concept in data:\n",
    "    for type_t in concept[\"@type\"]:\n",
    "        if type_t in 'https://physh.org/rdf/2018/01/01/core#Discipline':\n",
    "            print(json.dumps(concept[\"http://purl.org/dc/terms/title\"][0][\"@value\"], indent=4))"
   ]
  },
  {
   "cell_type": "code",
   "execution_count": null,
   "metadata": {},
   "outputs": [],
   "source": [
    "#Getting Discipline\n",
    "for concept in data:\n",
    "    for type_t in concept[\"@type\"]:\n",
    "        if type_t in 'https://physh.org/rdf/2018/01/01/core#Discipline':\n",
    "            print(json.dumps(concept, indent=4))"
   ]
  },
  {
   "cell_type": "code",
   "execution_count": null,
   "metadata": {},
   "outputs": [],
   "source": [
    "print(\"Number of concepts: {}\".format(len(data)))"
   ]
  },
  {
   "cell_type": "code",
   "execution_count": null,
   "metadata": {},
   "outputs": [],
   "source": [
    "concepts = dict()\n",
    "for concept in data:\n",
    "    _id = concept['@id']\n",
    "    if _id not in concepts:\n",
    "        concepts[_id] = 1"
   ]
  },
  {
   "cell_type": "code",
   "execution_count": null,
   "metadata": {},
   "outputs": [],
   "source": [
    "print(len(concepts))"
   ]
  },
  {
   "cell_type": "code",
   "execution_count": null,
   "metadata": {},
   "outputs": [],
   "source": [
    "hier = dict()\n",
    "\n",
    "for concept in data:\n",
    "    if 'http://www.w3.org/2004/02/skos/core#narrower' in concept:\n",
    "        _id = concept['@id']\n",
    "        narrowers = concept['http://www.w3.org/2004/02/skos/core#narrower']\n",
    "        for narrower in narrowers:\n",
    "            if _id not in hier:\n",
    "                hier[_id] = list()\n",
    "            hier[_id].append(narrower['@id'])"
   ]
  },
  {
   "cell_type": "code",
   "execution_count": null,
   "metadata": {},
   "outputs": [],
   "source": [
    "pprint.pprint(hier)"
   ]
  },
  {
   "cell_type": "code",
   "execution_count": null,
   "metadata": {},
   "outputs": [],
   "source": [
    "unhier = dict()"
   ]
  },
  {
   "cell_type": "code",
   "execution_count": null,
   "metadata": {},
   "outputs": [],
   "source": [
    "for concept in data:\n",
    "    if 'http://www.w3.org/2004/02/skos/core#narrower' in concept:\n",
    "        _id = concept['@id']\n",
    "        narrowers = concept['http://www.w3.org/2004/02/skos/core#narrower']\n",
    "        for narrower in narrowers:\n",
    "            if narrower['@id'] not in unhier:\n",
    "                unhier[narrower['@id']] = list()\n",
    "            unhier[narrower['@id']].append(_id)"
   ]
  },
  {
   "cell_type": "code",
   "execution_count": null,
   "metadata": {},
   "outputs": [],
   "source": [
    "pprint.pprint(unhier)"
   ]
  },
  {
   "cell_type": "code",
   "execution_count": null,
   "metadata": {},
   "outputs": [],
   "source": [
    "for concept, value in concepts.items():\n",
    "    queue = deque() \n",
    "    max_depth = value\n",
    "    queue.append({\"t\":concept,\"d\":value})\n",
    "    while len(queue) > 0:\n",
    "        dequeued = queue.popleft()\n",
    "        if dequeued[\"t\"] in unhier:\n",
    "            broaders = unhier[dequeued[\"t\"]]\n",
    "            new_depth = dequeued[\"d\"]+1\n",
    "            if new_depth > max_depth:\n",
    "                max_depth = new_depth\n",
    "            for broader in broaders:\n",
    "                queue.append({\"t\":broader,\"d\":dequeued[\"d\"]+1})\n",
    "    \n",
    "    concepts[concept] = max_depth"
   ]
  },
  {
   "cell_type": "code",
   "execution_count": null,
   "metadata": {},
   "outputs": [],
   "source": [
    "pprint.pprint(concepts)"
   ]
  },
  {
   "cell_type": "code",
   "execution_count": null,
   "metadata": {},
   "outputs": [],
   "source": [
    "import pandas as pd\n",
    "list_of_depths = pd.DataFrame.from_dict(concepts, orient='index', columns=['depth'])"
   ]
  },
  {
   "cell_type": "code",
   "execution_count": null,
   "metadata": {},
   "outputs": [],
   "source": [
    "list_of_depths.sort_values('depth', inplace=True, ascending=False)\n",
    "list_of_depths.head()"
   ]
  }
 ],
 "metadata": {
  "kernelspec": {
   "display_name": "Python 3 (ipykernel)",
   "language": "python",
   "name": "python3"
  },
  "language_info": {
   "codemirror_mode": {
    "name": "ipython",
    "version": 3
   },
   "file_extension": ".py",
   "mimetype": "text/x-python",
   "name": "python",
   "nbconvert_exporter": "python",
   "pygments_lexer": "ipython3",
   "version": "3.12.0"
  }
 },
 "nbformat": 4,
 "nbformat_minor": 4
}
