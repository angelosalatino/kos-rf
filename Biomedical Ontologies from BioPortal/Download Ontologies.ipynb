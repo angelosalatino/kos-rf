{
 "cells": [
  {
   "cell_type": "markdown",
   "metadata": {},
   "source": [
    "# Download all ontologies from Open Biological and Biomedical Ontology Foundry"
   ]
  },
  {
   "cell_type": "markdown",
   "metadata": {},
   "source": [
    "##### It is important to have ``urllib`` and ``hurry.filesize``\n",
    "\n",
    "- !pip install hurry.filesize\n",
    "- !pip install urllib3"
   ]
  },
  {
   "cell_type": "markdown",
   "metadata": {},
   "source": [
    "### Initialise all required libraries"
   ]
  },
  {
   "cell_type": "code",
   "execution_count": null,
   "metadata": {},
   "outputs": [],
   "source": [
    "import os\n",
    "import sys\n",
    "import json\n",
    "import requests\n",
    "import urllib3\n",
    "from hurry.filesize import size"
   ]
  },
  {
   "cell_type": "markdown",
   "metadata": {},
   "source": [
    "### Download File Function\n",
    "\n",
    "This function is used to download a file from a given URL and save it with a specified filename. It uses the `urllib3` library to make the HTTP request and save the response data to a file.\n",
    "\n",
    "#### Parameters:\n",
    "- `input_url` (string): The URL of the file to be downloaded.\n",
    "- `input_file` (string): The path and filename where the downloaded file will be saved.\n",
    "\n",
    "#### Returns:\n",
    "None\n",
    "\n",
    "#### Example Usage:"
   ]
  },
  {
   "cell_type": "code",
   "execution_count": null,
   "metadata": {},
   "outputs": [],
   "source": [
    "def download_file(input_url, input_file):\n",
    "    __input_url = urllib3.PoolManager()\n",
    "    response = __input_url.request('GET', input_url)\n",
    "\n",
    "    if response.status == 200:\n",
    "        with open(input_file, 'wb') as file:\n",
    "            file.write(response.data)\n",
    "        print(f\"File downloaded and saved as {input_file}\")\n",
    "    else:\n",
    "        print(\"Failed to download the file.\")"
   ]
  },
  {
   "cell_type": "markdown",
   "metadata": {},
   "source": [
    "#### Download Ontologies\n",
    "\n",
    "This code block downloads the ontologies from the Open Biological and Biomedical Ontology Foundry. It checks if the current script is being run as the main module and then proceeds to download the ontologies from the specified URL and save them as a JSON file.\n",
    "\n",
    "##### Code Explanation:\n",
    "- The `input_url` variable stores the URL of the ontologies JSON file.\n",
    "- The `input_file` variable stores the path and filename where the downloaded file will be saved.\n",
    "- The `download_file()` function is called with the `input_url` and `input_file` as arguments to download and save the file.\n",
    "\n",
    "##### Example Usage:"
   ]
  },
  {
   "cell_type": "code",
   "execution_count": null,
   "metadata": {},
   "outputs": [],
   "source": [
    "if __name__ == \"__main__\":\n",
    "    input_url = \"https://obofoundry.org/registry/ontologies.jsonld\"\n",
    "    input_file = \"obo-ontologies.json\"\n",
    "\n",
    "    download_file(input_url, input_file)"
   ]
  },
  {
   "cell_type": "markdown",
   "metadata": {},
   "source": [
    "### Load Ontologies\n",
    "\n",
    "This code block reads the downloaded ontologies JSON file and loads its contents into a variable called `ontologies`. \n",
    "\n",
    "#### Parameters:\n",
    "- `input_file` (string): The path and filename of the downloaded ontologies JSON file.\n",
    "\n",
    "#### Returns:\n",
    "None\n",
    "\n",
    "#### Example Usage:"
   ]
  },
  {
   "cell_type": "code",
   "execution_count": null,
   "metadata": {},
   "outputs": [],
   "source": [
    "with open(input_file,'r') as file:\n",
    "    ontologies = json.load(file)"
   ]
  },
  {
   "cell_type": "markdown",
   "metadata": {},
   "source": [
    "### Download Ontology Function\n",
    "\n",
    "This function is used to download an ontology file from a given URL and save it with a specified filename. It uses the `requests` library to make the HTTP request and save the response data to a file.\n",
    "\n",
    "#### Parameters:\n",
    "- `url` (string): The URL of the ontology file to be downloaded.\n",
    "- `filename` (string): The path and filename where the downloaded ontology file will be saved.\n",
    "\n",
    "#### Returns:\n",
    "None\n",
    "\n",
    "#### Example Usage:"
   ]
  },
  {
   "cell_type": "code",
   "execution_count": null,
   "metadata": {},
   "outputs": [],
   "source": [
    "def download_ontology(url, filename):\n",
    "    \"\"\"Function that downloads the model from the web.\n",
    "\n",
    "    Args:\n",
    "        url (string): Url of where the model is located.\n",
    "        filename (string): location of where to save the model\n",
    "\n",
    "    Returns:\n",
    "\n",
    "    \"\"\"\n",
    "    with open(filename, 'wb') as f:\n",
    "        response = requests.get(url, stream=True)\n",
    "        total = response.headers.get('content-length')\n",
    "\n",
    "        if total is None:\n",
    "            #f.write(response.content)\n",
    "            print('Error downloading {}'.format(url))\n",
    "        else:\n",
    "            downloaded = 0\n",
    "            total = int(total)\n",
    "            for data in response.iter_content(chunk_size=max(int(total/1000), 1024*1024)):\n",
    "                downloaded += len(data)\n",
    "                f.write(data)\n",
    "                done = int(50*downloaded/total)\n",
    "                sys.stdout.write('\\r[{}{}] {}/{}'.format('█' * done, '.' * (50-done), size(downloaded), size(total)))\n",
    "                sys.stdout.flush()\n",
    "            sys.stdout.write('\\n')\n",
    "            print('[*] Done!')"
   ]
  },
  {
   "cell_type": "markdown",
   "metadata": {},
   "source": [
    "### Download Ontology Files\n",
    "\n",
    "This code block downloads the ontology files for the active ontologies from the Open Biological and Biomedical Ontology Foundry. It iterates through each ontology in the `ontologies` variable and checks if the ontology's `activity_status` is \"inactive\". If it is, the code skips to the next ontology. Otherwise, it constructs the URL and file path for the ontology file and calls the `download_ontology()` function to download and save the file.\n",
    "\n",
    "#### Code Explanation:\n",
    "- The `PATH` variable stores the directory path where the ontology files will be saved.\n",
    "- The code iterates through each ontology in the `ontologies` variable.\n",
    "- If an ontology's `activity_status` is \"inactive\", the code continues to the next iteration.\n",
    "- Otherwise, the code constructs the URL and file path for the ontology file.\n",
    "- The `download_ontology()` function is called with the URL and file path as arguments to download and save the ontology file.\n",
    "\n",
    "#### Example Usage:"
   ]
  },
  {
   "cell_type": "code",
   "execution_count": null,
   "metadata": {},
   "outputs": [],
   "source": [
    "PATH = './obo-ontologies'\n",
    "for ontology in ontologies['ontologies']:\n",
    "    if ontology['activity_status'] == 'inactive':\n",
    "        continue\n",
    "    url = ontology['ontology_purl']\n",
    "    file = os.path.join(PATH, ontology['id']+'.owl')\n",
    "    download_ontology(url, file)"
   ]
  }
 ],
 "metadata": {
  "kernelspec": {
   "display_name": "Python 3 (ipykernel)",
   "language": "python",
   "name": "python3"
  },
  "language_info": {
   "codemirror_mode": {
    "name": "ipython",
    "version": 3
   },
   "file_extension": ".py",
   "mimetype": "text/x-python",
   "name": "python",
   "nbconvert_exporter": "python",
   "pygments_lexer": "ipython3",
   "version": "3.12.0"
  }
 },
 "nbformat": 4,
 "nbformat_minor": 4
}
