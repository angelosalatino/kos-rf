{
 "cells": [
  {
   "cell_type": "markdown",
   "metadata": {},
   "source": [
    "# Analyse IEEE Thesaurus"
   ]
  },
  {
   "cell_type": "markdown",
   "metadata": {},
   "source": [
    "### Importing Required Libraries\n",
    "\n",
    "In this cell, we import the following libraries:\n",
    "\n",
    "- `rdflib`: A library for working with RDF (Resource Description Framework) data.\n",
    "- `Graph` and `URIRef` from `rdflib`: Classes for creating and manipulating RDF graphs and URIs.\n",
    "- `RDFS` from `rdflib.namespace`: A namespace for RDF Schema vocabulary.\n",
    "- `urllib3`: A library for making HTTP requests.\n",
    "- `json`: A library for working with JSON data.\n",
    "- `deque` from `collections`: A double-ended queue implementation.\n",
    "- `numpy` and `pandas`: Libraries for data manipulation and analysis.\n",
    "\n",
    "These libraries are required for the subsequent cells."
   ]
  },
  {
   "cell_type": "code",
   "execution_count": 64,
   "metadata": {},
   "outputs": [],
   "source": [
    "import rdflib\n",
    "import urllib3\n",
    "import json\n",
    "import numpy as np\n",
    "import pandas as pd\n",
    "from rdflib import Graph\n",
    "from rdflib import URIRef\n",
    "from collections import deque\n",
    "from rdflib.namespace import RDFS"
   ]
  },
  {
   "cell_type": "code",
   "execution_count": 42,
   "metadata": {},
   "outputs": [],
   "source": [
    "input_file = 'ieee-thesaurus.xml' # input file path"
   ]
  },
  {
   "cell_type": "markdown",
   "metadata": {},
   "source": [
    "### Parsing the Input File\n",
    "\n",
    "In this cell, we parse the input file using the `rdflib` library. The input file path is stored in the variable `input_file`.\n",
    "\n",
    "The code snippet below demonstrates how to parse the input file and store the RDF graph in the variable `g`."
   ]
  },
  {
   "cell_type": "code",
   "execution_count": null,
   "metadata": {},
   "outputs": [],
   "source": [
    "g = Graph()\n",
    "g.parse(input_file)"
   ]
  },
  {
   "cell_type": "markdown",
   "metadata": {},
   "source": [
    "### Counting the Number of Concepts\n",
    "\n",
    "In this cell, we count the number of concepts in the RDF graph using the `g.query()` method from the `rdflib` library. The SPARQL query selects distinct concepts that have the RDF type `skos:Concept`.\n",
    "\n",
    "The code snippet below demonstrates how to count the number of concepts and store them in the `topics` dictionary. Finally, we print the total number of concepts."
   ]
  },
  {
   "cell_type": "code",
   "execution_count": null,
   "metadata": {},
   "outputs": [],
   "source": [
    "qres = g.query(\n",
    "    \"\"\"PREFIX   \n",
    "                skos: <http://www.w3.org/2004/02/skos/core#>\n",
    "       SELECT DISTINCT ?a\n",
    "       WHERE {\n",
    "          ?a a skos:Concept .\n",
    "       }\"\"\")\n",
    "\n",
    "topics = dict()\n",
    "for row in qres:\n",
    "    topics[row[0]] = True\n",
    "    \n",
    "print(\"Number of concepts: {}\".format(len(topics)))"
   ]
  },
  {
   "cell_type": "markdown",
   "metadata": {},
   "source": [
    "### Querying and Organising Concepts\n",
    "\n",
    "In this cell, we query the RDF graph using the `g.query()` method from the `rdflib` library. The SPARQL query selects distinct concepts and their corresponding broader concepts.\n",
    "\n",
    "The code snippet below demonstrates how to execute the query and organise the concepts into dictionaries `broaders` and `narrowers`. The `broaders` dictionary stores each concept as a key and its list of broader concepts as the corresponding value. Similarly, the `narrowers` dictionary stores each concept as a key and its list of narrower concepts as the corresponding value."
   ]
  },
  {
   "cell_type": "code",
   "execution_count": 65,
   "metadata": {},
   "outputs": [],
   "source": [
    "qres = g.query(\n",
    "    \"\"\"PREFIX skos:<https://ieee-thesaurus.org/schema>\n",
    "       SELECT DISTINCT ?a ?b\n",
    "       WHERE {\n",
    "          ?a skos:Concept ?b .\n",
    "       }\"\"\")\n",
    "\n",
    "\n",
    "broaders = dict()\n",
    "narrowers = dict()\n",
    "\n",
    "\n",
    "for row in qres:\n",
    "    if row[0] not in broaders:\n",
    "        broaders[row[0]] = list()\n",
    "    broaders[row[0]].append(row[1])\n",
    "    if row[1] not in narrowers:\n",
    "        narrowers[row[1]] = list()\n",
    "    narrowers[row[1]].append(row[0])"
   ]
  },
  {
   "cell_type": "markdown",
   "metadata": {},
   "source": [
    "### Calculating Maximum Depth of Concepts\n",
    "\n",
    "In this cell, we calculate the maximum depth of concepts in the `concepts` dictionary. The `concepts` dictionary contains the concepts as keys and their initial depth as values."
   ]
  },
  {
   "cell_type": "code",
   "execution_count": 66,
   "metadata": {},
   "outputs": [],
   "source": [
    "broaders = dict()\n",
    "unhier = dict(broaders)\n",
    "concepts = dict(topics)\n",
    "for concept, value in concepts.items():\n",
    "    queue = deque() \n",
    "    max_depth = value \n",
    "    queue.append({\"t\": concept, \"d\": value})\n",
    "    while len(queue) > 0:\n",
    "        dequeued = queue.popleft()\n",
    "        if dequeued[\"t\"] in unhier:\n",
    "            broads = unhier[dequeued[\"t\"]]\n",
    "            new_depth = dequeued[\"d\"] + 1\n",
    "            if new_depth > max_depth:\n",
    "                max_depth = new_depth\n",
    "            for broader in broads:\n",
    "                queue.append({\"t\": broader, \"d\": dequeued[\"d\"] + 1})\n",
    "\n",
    "    concepts[concept] = max_depth"
   ]
  },
  {
   "cell_type": "code",
   "execution_count": 67,
   "metadata": {},
   "outputs": [],
   "source": [
    "list_of_depths = pd.DataFrame.from_dict(concepts, orient='index', columns=['depth'])\n",
    "list_of_depths.sort_values('depth', inplace=True, ascending=False)"
   ]
  },
  {
   "cell_type": "code",
   "execution_count": null,
   "metadata": {},
   "outputs": [],
   "source": [
    "print(\"Concepts are ranked by maximum depth\")\n",
    "list_of_depths.head(20)"
   ]
  },
  {
   "cell_type": "markdown",
   "metadata": {},
   "source": [
    "### Checking for Monohierarchy\n",
    "\n",
    "In this cell, we check if the IEEE Thesaurus is monohierarchical, meaning that each narrower concept has only one broader concept.\n",
    "\n",
    "The code snippet below prints a message indicating that if nothing is printed after this line, it means that the IEEE Thesaurus is monohierarchical. It then iterates over the `broaders` dictionary and checks if any concept has more than one parent. If a concept has more than one parent, it prints the concept name and the number of parents it has.\n"
   ]
  },
  {
   "cell_type": "code",
   "execution_count": null,
   "metadata": {},
   "outputs": [],
   "source": [
    "print(\"If it does not print anything after this line, it means IEEE Thesaurus is monohierarchical (a narrower has only one broader)\")\n",
    "for k, v in broaders.items(): \n",
    "    if len(v) > 1: \n",
    "        print(\"{} has {} parents\".format(k, len(v)))"
   ]
  }
 ],
 "metadata": {
  "kernelspec": {
   "display_name": "Python 3 (ipykernel)",
   "language": "python",
   "name": "python3"
  },
  "language_info": {
   "codemirror_mode": {
    "name": "ipython",
    "version": 3
   },
   "file_extension": ".py",
   "mimetype": "text/x-python",
   "name": "python",
   "nbconvert_exporter": "python",
   "pygments_lexer": "ipython3",
   "version": "3.12.0"
  }
 },
 "nbformat": 4,
 "nbformat_minor": 4
}
