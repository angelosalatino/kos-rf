{
 "cells": [
  {
   "cell_type": "markdown",
   "metadata": {},
   "source": [
    "# Aanalyse STW Thesaurus"
   ]
  },
  {
   "cell_type": "markdown",
   "metadata": {},
   "source": [
    "### Importing Required Libraries\n",
    "\n",
    "In this cell, we are importing the following libraries:\n",
    "\n",
    "- `rdflib.Graph`: This library is used to create an RDF graph and perform operations on it.\n",
    "- `rdflib.namespace.RDFS`: This library provides access to the RDFS namespace, which is used for working with RDF Schema.\n",
    "- `rdflib.URIRef`: This library is used to create URI references for RDF resources.\n",
    "- `rdflib`: This library provides various functionalities for working with RDF data.\n",
    "- `urllib3`: This library is used for making HTTP requests.\n",
    "- `json`: This library is used for working with JSON data.\n",
    "- `collections.deque`: This library provides a double-ended queue implementation.\n",
    "- `numpy`: This library provides support for large, multi-dimensional arrays and matrices.\n",
    "- `pandas`: This library is used for data manipulation and analysis.\n",
    "\n",
    "These libraries are required for the subsequent cells in this Jupyter Notebook."
   ]
  },
  {
   "cell_type": "code",
   "execution_count": null,
   "metadata": {},
   "outputs": [],
   "source": [
    "from rdflib import Graph\n",
    "from rdflib.namespace import RDFS\n",
    "from rdflib import URIRef\n",
    "import rdflib\n",
    "import urllib3\n",
    "import json\n",
    "from collections import deque\n",
    "import numpy as np\n",
    "import pandas as pd"
   ]
  },
  {
   "cell_type": "markdown",
   "metadata": {},
   "source": [
    "### Setting Input File\n",
    "\n",
    "In this cell, we are setting the input file for our analysis. The input file path is specified as follows:"
   ]
  },
  {
   "cell_type": "code",
   "execution_count": null,
   "metadata": {},
   "outputs": [],
   "source": [
    "input_file = \"./stw9-16.ttl\""
   ]
  },
  {
   "cell_type": "markdown",
   "metadata": {},
   "source": [
    "### Parsing RDF Data\n",
    "\n",
    "In this cell, we are parsing RDF data using the `rdflib.Graph()` class. The RDF data is loaded from the file `stw.ttl` using the `parse()` method of the `Graph` class.\n",
    "\n",
    "Here's the code:"
   ]
  },
  {
   "cell_type": "code",
   "execution_count": null,
   "metadata": {},
   "outputs": [],
   "source": [
    "g = Graph()\n",
    "g.parse('./stw.ttl')"
   ]
  },
  {
   "cell_type": "markdown",
   "metadata": {},
   "source": [
    "### Querying RDF Data\n",
    "\n",
    "In this cell, we are querying the RDF data using the `rdflib.Graph.query()` method. The SPARQL query selects all distinct concepts from the RDF data.\n",
    "\n",
    "Here's the code:\n"
   ]
  },
  {
   "cell_type": "code",
   "execution_count": null,
   "metadata": {},
   "outputs": [],
   "source": [
    "qres = g.query(\n",
    "    \"\"\"PREFIX skos:<http://www.w3.org/2004/02/skos/core#>\n",
    "       SELECT DISTINCT ?a\n",
    "       WHERE {\n",
    "          ?a a skos:Concept .\n",
    "       }\"\"\")\n",
    "\n",
    "\n",
    "topics = dict()\n",
    "for row in qres:\n",
    "    topics[row[0]] = True\n",
    "    \n",
    "print(\"Number of concepts: {}\".format(len(topics)))"
   ]
  },
  {
   "cell_type": "markdown",
   "metadata": {},
   "source": [
    "### Querying Broader Concepts\n",
    "\n",
    "In this cell, we are querying the broader concepts using the `rdflib.Graph.query()` method. The SPARQL query selects all distinct pairs of concepts and their broader concepts from the RDF data.\n",
    "\n",
    "Here's the code:"
   ]
  },
  {
   "cell_type": "code",
   "execution_count": null,
   "metadata": {},
   "outputs": [],
   "source": [
    "qres = g.query(\n",
    "    \"\"\"PREFIX skos:<http://www.w3.org/2004/02/skos/core#>\n",
    "       SELECT DISTINCT ?a ?b\n",
    "       WHERE {\n",
    "          ?a skos:broader ?b .\n",
    "       }\"\"\")\n",
    "\n",
    "broaders = dict()\n",
    "narrowers = dict()\n",
    "for row in qres:\n",
    "    if row[0] not in broaders:\n",
    "        broaders[row[0]] = list()\n",
    "    broaders[row[0]].append(row[1])\n",
    "    if row[1] not in narrowers:\n",
    "        narrowers[row[1]] = list()\n",
    "    narrowers[row[1]].append(row[0])"
   ]
  },
  {
   "cell_type": "markdown",
   "metadata": {},
   "source": [
    "### Querying Alternative Labels (only English)\n",
    "\n",
    "In this cell, we are querying the alternative labels using the `rdflib.Graph.query()` method. The SPARQL query selects all distinct pairs of concepts and their alternative labels from the RDF data. We also filter the alternative labels to only include those in English.\n",
    "\n",
    "Here's the code:"
   ]
  },
  {
   "cell_type": "code",
   "execution_count": null,
   "metadata": {},
   "outputs": [],
   "source": [
    "qres = g.query(\n",
    "    \"\"\"PREFIX skos:<http://www.w3.org/2004/02/skos/core#>\n",
    "       SELECT DISTINCT ?a ?b\n",
    "       WHERE {\n",
    "          ?a skos:altLabel ?b .\n",
    "          FILTER (lang(?b) = 'en')\n",
    "       }\"\"\")\n",
    "\n",
    "altlabel = list()\n",
    "print(len(qres))\n",
    "for row in qres:\n",
    "    altlabel.append(row[1])\n",
    "print(len(altlabel))"
   ]
  },
  {
   "cell_type": "markdown",
   "metadata": {},
   "source": [
    "### Querying Alternative Labels (all Languages)\n",
    "\n",
    "In this cell, we are querying the alternative labels using the `rdflib.Graph.query()` method. The SPARQL query selects all distinct pairs of concepts and their alternative labels from the RDF data.\n",
    "\n",
    "Here's the code:"
   ]
  },
  {
   "cell_type": "code",
   "execution_count": null,
   "metadata": {},
   "outputs": [],
   "source": [
    "qres = g.query(\n",
    "    \"\"\"PREFIX skos:<http://www.w3.org/2004/02/skos/core#>\n",
    "       SELECT DISTINCT ?a ?b\n",
    "       WHERE {\n",
    "          ?a skos:altLabel ?b .\n",
    "       }\"\"\")\n",
    "\n",
    "altlabel = list()\n",
    "print(len(qres))\n",
    "for row in qres:\n",
    "    altlabel.append(row[1])\n",
    "print(len(altlabel))"
   ]
  },
  {
   "cell_type": "markdown",
   "metadata": {},
   "source": [
    "### Calculating Maximum Depth of Concepts\n",
    "\n",
    "In this cell, we are calculating the maximum depth of concepts in the `concepts` dictionary. We iterate over each concept and its corresponding value in the `concepts` dictionary. \n",
    "\n",
    "For each concept, we initialise a queue and set the maximum depth to the initial value. We then enqueue the concept and its depth into the queue. \n",
    "\n",
    "While the queue is not empty, we dequeue an element and check if its corresponding concept exists in the `unhier` dictionary. If it does, we update the maximum depth if necessary and enqueue the broader concepts with an incremented depth. \n",
    "\n",
    "Finally, we update the value of the concept in the `concepts` dictionary with the maximum depth.\n",
    "\n",
    "This calculation helps us determine the hierarchical depth of each concept in the `concepts` dictionary."
   ]
  },
  {
   "cell_type": "code",
   "execution_count": null,
   "metadata": {},
   "outputs": [],
   "source": [
    "unhier = broaders\n",
    "concepts = topics\n",
    "for concept, value in concepts.items():\n",
    "    queue = deque() \n",
    "    max_depth = value\n",
    "    queue.append({\"t\":concept,\"d\":value})\n",
    "    while len(queue) > 0:\n",
    "        dequeued = queue.popleft()\n",
    "        if dequeued[\"t\"] in unhier:\n",
    "            broads = unhier[dequeued[\"t\"]]\n",
    "            new_depth = dequeued[\"d\"]+1\n",
    "            if new_depth > max_depth:\n",
    "                max_depth = new_depth\n",
    "            for broader in broads:\n",
    "                queue.append({\"t\":broader,\"d\":dequeued[\"d\"]+1})\n",
    "    \n",
    "    concepts[concept] = max_depth"
   ]
  },
  {
   "cell_type": "code",
   "execution_count": null,
   "metadata": {},
   "outputs": [],
   "source": [
    "unhier = altlabel\n",
    "concepts = topics\n",
    "for concept, value in concepts.items():\n",
    "    queue = deque() \n",
    "    max_depth = value\n",
    "    queue.append({\"t\":concept,\"d\":value})\n",
    "    while len(queue) > 0:\n",
    "        dequeued = queue.popleft()\n",
    "        if dequeued[\"t\"] in unhier:\n",
    "            broads = unhier[dequeued[\"t\"]]\n",
    "            new_depth = dequeued[\"d\"]+1\n",
    "            if new_depth > max_depth:\n",
    "                max_depth = new_depth\n",
    "            for broader in broads:\n",
    "                queue.append({\"t\":broader,\"d\":dequeued[\"d\"]+1})\n",
    "    \n",
    "    concepts[concept] = max_depth"
   ]
  },
  {
   "cell_type": "code",
   "execution_count": null,
   "metadata": {},
   "outputs": [],
   "source": [
    "list_of_depths = pd.DataFrame.from_dict(concepts, orient='index', columns=['depth'])\n",
    "list_of_depths.sort_values('depth', inplace=True, ascending=False)"
   ]
  },
  {
   "cell_type": "code",
   "execution_count": null,
   "metadata": {},
   "outputs": [],
   "source": [
    "print(\"Concepts are ranked by maximum depth\")\n",
    "list_of_depths.head(20)"
   ]
  },
  {
   "cell_type": "code",
   "execution_count": null,
   "metadata": {
    "scrolled": true
   },
   "outputs": [],
   "source": [
    "for k, v in broaders.items(): \n",
    "    if len(v) > 1: \n",
    "        print(\"{} has {} parents\".format(k, len(v)))"
   ]
  }
 ],
 "metadata": {
  "kernelspec": {
   "display_name": "Python 3 (ipykernel)",
   "language": "python",
   "name": "python3"
  },
  "language_info": {
   "codemirror_mode": {
    "name": "ipython",
    "version": 3
   },
   "file_extension": ".py",
   "mimetype": "text/x-python",
   "name": "python",
   "nbconvert_exporter": "python",
   "pygments_lexer": "ipython3",
   "version": "3.12.0"
  }
 },
 "nbformat": 4,
 "nbformat_minor": 4
}
